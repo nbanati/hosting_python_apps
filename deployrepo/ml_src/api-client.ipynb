{
 "cells": [
  {
   "cell_type": "code",
   "execution_count": 5,
   "metadata": {},
   "outputs": [],
   "source": [
    "import json\n",
    "import requests"
   ]
  },
  {
   "cell_type": "code",
   "execution_count": 6,
   "metadata": {},
   "outputs": [],
   "source": [
    "url = \"http://localhost:9000/api/iris/predict\""
   ]
  },
  {
   "cell_type": "code",
   "execution_count": 7,
   "metadata": {},
   "outputs": [
    {
     "data": {
      "text/plain": [
       "{'status': 200, 'data': ['versicolor']}"
      ]
     },
     "execution_count": 7,
     "metadata": {},
     "output_type": "execute_result"
    }
   ],
   "source": [
    "payload = {\n",
    "    \"sepal_length\": 2,\n",
    "    \"sepal_width\": 5,\n",
    "    \"petal_length\": 3,\n",
    "    \"petal_width\": 4\n",
    "}\n",
    "resp = requests.post(url, json=payload)\n",
    "resp.json()"
   ]
  },
  {
   "cell_type": "code",
   "execution_count": 8,
   "metadata": {},
   "outputs": [
    {
     "data": {
      "text/plain": [
       "{'status': 200, 'data': ['versicolor', 'versicolor']}"
      ]
     },
     "execution_count": 8,
     "metadata": {},
     "output_type": "execute_result"
    }
   ],
   "source": [
    "payload = [{\n",
    "    \"sepal_length\": 2,\n",
    "    \"sepal_width\": 5,\n",
    "    \"petal_length\": 3,\n",
    "    \"petal_width\": 4\n",
    "},{\n",
    "    \"sepal_length\": 2.5,\n",
    "    \"sepal_width\": 5,\n",
    "    \"petal_length\": 3,\n",
    "    \"petal_width\": 4\n",
    "}]\n",
    "resp = requests.post(url, json=payload)\n",
    "resp.json()"
   ]
  },
  {
   "cell_type": "code",
   "execution_count": null,
   "metadata": {},
   "outputs": [],
   "source": []
  },
  {
   "cell_type": "code",
   "execution_count": null,
   "metadata": {},
   "outputs": [],
   "source": []
  }
 ],
 "metadata": {
  "kernelspec": {
   "display_name": "Python 3",
   "language": "python",
   "name": "python3"
  },
  "language_info": {
   "codemirror_mode": {
    "name": "ipython",
    "version": 3
   },
   "file_extension": ".py",
   "mimetype": "text/x-python",
   "name": "python",
   "nbconvert_exporter": "python",
   "pygments_lexer": "ipython3",
   "version": "3.7.0"
  }
 },
 "nbformat": 4,
 "nbformat_minor": 1
}
